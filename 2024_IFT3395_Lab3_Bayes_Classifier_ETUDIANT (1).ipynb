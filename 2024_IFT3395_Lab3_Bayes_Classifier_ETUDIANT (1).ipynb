{
  "cells": [
    {
      "cell_type": "markdown",
      "metadata": {
        "id": "4rlfAJ5K2S_Q"
      },
      "source": [
        "# Classificateur de Bayes et maximum de vraisemblance d'une loi gaussienne multivariée"
      ]
    },
    {
      "cell_type": "markdown",
      "metadata": {
        "id": "eS0-skWZ2S_S"
      },
      "source": [
        "## Preface/Préface"
      ]
    },
    {
      "cell_type": "code",
      "execution_count": 4,
      "metadata": {
        "id": "094nMfAX2S_h"
      },
      "outputs": [],
      "source": [
        "import numpy as np\n",
        "import matplotlib.pyplot as plt\n",
        "import matplotlib\n",
        "from ipywidgets import interact, SelectMultiple, fixed, Checkbox, IntRangeSlider, IntSlider, FloatSlider\n",
        "import ipywidgets as widgets\n",
        "matplotlib.rcParams['figure.figsize'] = [10,5]\n",
        "plt.style.use('fivethirtyeight')"
      ]
    },
    {
      "cell_type": "markdown",
      "metadata": {
        "id": "4-GU7DBd2S_T"
      },
      "source": [
        "Commencez, si nécessaire, par faire une révision des notes de cours portant sur le [classificateur de Bayes](https://studium.umontreal.ca/pluginfile.php/4027948/mod_resource/content/4/7_bayes_classifier-en.pdf) et sur le principe du [maximum de vraisemblance](https://studium.umontreal.ca/pluginfile.php/4003963/mod_resource/content/4/5_gaussian_distribution_en.pdf).\n"
      ]
    },
    {
      "cell_type": "markdown",
      "metadata": {
        "id": "Zl9aa2Gc2S_U"
      },
      "source": [
        "## Description détaillée"
      ]
    },
    {
      "cell_type": "markdown",
      "metadata": {
        "id": "0WmSTERQ2S_V"
      },
      "source": [
        "Aujourd'hui, nous allons construire un **classîficateur de Bayes multi-classes**. Ceci veut dire qu'à la place de modéliser  $ p (\\mbox{classe} \\ | \\ \\mbox{exemple}) $ (ou $ p (y \\ | \\ x) $), nous allons plutôt utiliser la formule de Bayes suivante:\n",
        "\n",
        "$$ p (\\mbox{classe} \\ | \\ \\mbox{exemple}) = \\frac{p (\\mbox{exemple} \\ | \\ \\mbox{classe}) p (\\mbox {classe})} {\\sum_{c'= 1}^{m} p_\\mbox{c'}(x) P_\\mbox{c'}} $$\n",
        "\n",
        "et allons modéliser différents termes. En fait, nous avons uniquement besoin de modéliser le numérateur puisque le dénominateur  est une constante de normalisation. De plus, $ P_\\mbox{c '} = n_c / n $.\n",
        "\n",
        "Le terme $ p (\\mbox{classe}) $ représente la probabilité à priori d'une classe, c'est-à-dire notre hypothèse à priori - avant avoir vu un certain exemple - de la probabilité qu'un exemple quelconque appartienne à cette classe. Nous allons représenter cette hypothèse par sa fréquence dans notre jeu d'entraînement: $ \\frac{n_c}{n} $, où $ n_c $ est le nombre d'exemples appartement à cette classe et $ n $ est le nombre d'exemples dans notre jeu d'entraînement.\n",
        "\n",
        "Nous allons utiliser des **gaussiennes multivariées** afin de modéliser les différentes probabilités $ p (\\mbox{exemple} \\ | \\ \\mbox{classe}) $. En d'autres mots, nous assumons que pour **chaque classe** $c$, la *vraie* distribution $ p (\\mbox{exemple} \\ | \\ \\mbox{classe}) $  possède la forme d'une loi gaussienne multivarié pour laquelle nous allons apprendre les paramètres $ \\mu_c $ et $ \\Sigma_c $.\n"
      ]
    },
    {
      "cell_type": "markdown",
      "metadata": {
        "id": "t_6Vj6qklxHW"
      },
      "source": [
        "## Gaussienne univariée"
      ]
    },
    {
      "cell_type": "markdown",
      "metadata": {
        "id": "xczDu1pEl8vd"
      },
      "source": [
        "Une **gaussienne univariée** est une distribution Gaussienne avec une seule dimension.\n",
        "\n",
        "La formule est définie comme suit ([Gaussian function](https://en.wikipedia.org/wiki/Gaussian_function)):\n",
        "\n",
        "$$\n",
        "p(x\\ | \\ \\mu, \\sigma) = \\frac{1}{\\sigma \\sqrt{2\\pi}}\\exp\\left(-\\frac{1}{2}\\frac{(x - \\mu)^2}{\\sigma^2}\\right)\n",
        "$$\n",
        "\n",
        "i.e. La probabilité qu'un point $x$ soit généré suit une Gaussienne (loi normale) de moyenne $\\mu$ et écart type $\\sigma$.\n",
        "\n",
        "Coder cette équation dans la fonction  `univariate_prob`:"
      ]
    },
    {
      "cell_type": "code",
      "execution_count": 5,
      "metadata": {
        "id": "CB3bXFgNnR74"
      },
      "outputs": [],
      "source": [
        "def univariate_prob(x, mu, sigma):\n",
        "  assert sigma > 0.0\n",
        "  return 1/(sigma * np.sqrt(2*np.pi)) * np.exp(-1/2*(x - mu)**2/sigma**2)"
      ]
    },
    {
      "cell_type": "markdown",
      "metadata": {
        "id": "t0jn9vbynZkU"
      },
      "source": [
        "Jouez avec cette fonction"
      ]
    },
    {
      "cell_type": "code",
      "execution_count": 6,
      "metadata": {
        "id": "LGTB3qfinYs2"
      },
      "outputs": [],
      "source": [
        "def my_plot_gaussian(X, pdf, mu, sigma):\n",
        "  plt.plot(X, pdf, label=f\"mu={mu:.02f}, sigma={sigma:.02f}\")\n",
        "  plt.legend()\n",
        "  plt.xlabel('X')\n",
        "  plt.ylabel('pdf of Gaussian')"
      ]
    },
    {
      "cell_type": "code",
      "execution_count": 9,
      "metadata": {
        "colab": {
          "base_uri": "https://localhost:8080/",
          "height": 558,
          "referenced_widgets": [
            "8f31f68cfb3c4aa08287ce80f073a8fc",
            "8712a55a44e44277af2e1ab038d68c9a",
            "5cf652d674404d86a17b8a2f87439991",
            "0113cf18278e4b15a9cd26366ef96a74",
            "1d74305ede3f428580f05b2e0fae896a",
            "41f27cb1911f4a6485dbb6246d021a2a",
            "4e3ba38a68ff4394b47faa7524a5fd55",
            "bd88069f48aa46eea87ed052fb4092f8",
            "7dd0b02d1f6948d09ccd7762089146b6",
            "9570a6e7c8314ba28ff9fb12ba1855b4"
          ]
        },
        "id": "ULOMCp1PndRh",
        "outputId": "c8725f46-7482-4bd5-86cd-6a59dd9ed8f7"
      },
      "outputs": [
        {
          "data": {
            "application/vnd.jupyter.widget-view+json": {
              "model_id": "f4131a73295b40ac9bd52d8ccbbf117c",
              "version_major": 2,
              "version_minor": 0
            },
            "text/plain": [
              "interactive(children=(FloatSlider(value=0.0, continuous_update=False, description='Mean', max=5.0, min=-5.0), …"
            ]
          },
          "metadata": {},
          "output_type": "display_data"
        }
      ],
      "source": [
        "@interact(\n",
        "    mu=FloatSlider(min=-5, max=5, value=0, description='Mean', continuous_update=False),\n",
        "    sigma=FloatSlider(min=0.0001, max=100, value=1, description='Std', continuous_update=False),\n",
        ")\n",
        "def interactive_gaussian(mu, sigma):\n",
        "  X = np.linspace(-20, 20, 200)\n",
        "  pdf = [univariate_prob(x, mu, sigma) for x in X]\n",
        "  my_plot_gaussian(X, pdf, mu, sigma)\n"
      ]
    },
    {
      "cell_type": "markdown",
      "metadata": {
        "id": "0fqqhyv9nnhC"
      },
      "source": [
        "## Entraîner un jeu de donné unidimensionnel avec une Gaussienne univariée"
      ]
    },
    {
      "cell_type": "markdown",
      "metadata": {
        "id": "61_VReAJnxMj"
      },
      "source": [
        "Disons que nous avons cet example jouet"
      ]
    },
    {
      "cell_type": "code",
      "execution_count": 10,
      "metadata": {
        "colab": {
          "base_uri": "https://localhost:8080/",
          "height": 465
        },
        "id": "E8ffbogUnm-u",
        "outputId": "eb43f4a4-5621-4c9e-d924-b3354697905c"
      },
      "outputs": [
        {
          "data": {
            "image/png": "[encoded data removed]",
            "text/plain": [
              "<Figure size 1000x500 with 1 Axes>"
            ]
          },
          "metadata": {},
          "output_type": "display_data"
        }
      ],
      "source": [
        "pts = np.array([0.0, 0.2, 0.4, 0.8, 1.0])\n",
        "classes = np.array([\"apple\", \"apple\", \"apple\", \"orange\", \"orange\"])\n",
        "new_pt = np.array(.5)\n",
        "\n",
        "plt.scatter(pts, np.array([0]*len(pts)), c=['C0', 'C0', 'C0', 'C1', 'C1'])\n",
        "for i, (x, s) in enumerate(zip(pts, classes)):\n",
        "  plt.text(x, -0.005, s)\n",
        "plt.scatter([new_pt], [0], c='r')\n",
        "plt.gca().axes.get_yaxis().set_visible(False)"
      ]
    },
    {
      "cell_type": "markdown",
      "metadata": {
        "id": "KDAe6VKOn0u_"
      },
      "source": [
        "Nous pouvons choisir de modéliser la distribution (inconnue) de chaque classe avec une Gaussienne avec la moyenne et l'écart type calculé empiriquement."
      ]
    },
    {
      "cell_type": "code",
      "execution_count": 15,
      "metadata": {
        "colab": {
          "base_uri": "https://localhost:8080/"
        },
        "id": "1bYd-6uboA4C",
        "outputId": "e4b008ca-f2eb-43fe-8053-5fa4203b17d1"
      },
      "outputs": [
        {
          "name": "stdout",
          "output_type": "stream",
          "text": [
            "mean_apple: 0.20 ; std_apple: 0.16\n",
            "mean_orange: 0.90 ; std_orange: 0.10\n"
          ]
        }
      ],
      "source": [
        "pts_apple = pts[classes==\"apple\"]\n",
        "mean_apple, std_apple = np.mean(pts_apple), np.std(pts_apple)\n",
        "\n",
        "pts_orange = pts[classes==\"orange\"]\n",
        "mean_orange, std_orange = np.mean(pts_orange), np.std(pts_orange)\n",
        "\n",
        "print(f\"mean_apple: {mean_apple:.02f} ; std_apple: {std_apple:.02f}\")\n",
        "print(f\"mean_orange: {mean_orange:.02f} ; std_orange: {std_orange:.02f}\")"
      ]
    },
    {
      "cell_type": "code",
      "execution_count": 12,
      "metadata": {
        "colab": {
          "base_uri": "https://localhost:8080/",
          "height": 511
        },
        "id": "93EFyfw3oCQF",
        "outputId": "2e6319b3-e015-4b6a-9faf-db4c76107974"
      },
      "outputs": [
        {
          "data": {
            "text/plain": [
              "<matplotlib.collections.PathCollection at 0x27f9ee73bc0>"
            ]
          },
          "execution_count": 12,
          "metadata": {},
          "output_type": "execute_result"
        },
        {
          "data": {
            "image/png": "[encoded data removed]",
            "text/plain": [
              "<Figure size 1000x500 with 1 Axes>"
            ]
          },
          "metadata": {},
          "output_type": "display_data"
        }
      ],
      "source": [
        "X = np.linspace(-0.5, 1.5, 100)\n",
        "\n",
        "pdf_apple = [univariate_prob(x, mean_apple, std_apple) for x in X]\n",
        "my_plot_gaussian(X, pdf_apple, mean_apple, std_apple)\n",
        "\n",
        "pdf_orange = [univariate_prob(x, mean_orange, std_orange) for x in X]\n",
        "my_plot_gaussian(X, pdf_orange, mean_orange, std_orange)\n",
        "\n",
        "plt.scatter(pts, np.array([-0.2]*len(pts)), c=['C0', 'C0', 'C0', 'C1', 'C1'])\n",
        "# for i, (x, s) in enumerate(zip(pts, classes)):\n",
        "#   plt.text(x, -0.5, s)\n",
        "plt.scatter([new_pt], [-0.2], c='r')"
      ]
    },
    {
      "cell_type": "markdown",
      "metadata": {
        "id": "ieA6x6zgoEDG"
      },
      "source": [
        "Nous pouvons maintenant approximer la probabilité que le point rouge provienne d'une ou l'autre Gaussienne\n",
        "\n",
        "i.e. $p(\\mbox{red}\\ |\\ \\mbox{apple})$ et $p(\\mbox{red}\\ |\\ \\mbox{orange})$ et comparer"
      ]
    },
    {
      "cell_type": "code",
      "execution_count": null,
      "metadata": {
        "colab": {
          "base_uri": "https://localhost:8080/"
        },
        "id": "gh8-FhaNoZkf",
        "outputId": "dc54c10b-3eae-4c88-f362-d1c49a9b89de"
      },
      "outputs": [
        {
          "name": "stdout",
          "output_type": "stream",
          "text": [
            "p(red | apple): 0.4519; p(red | orange): 0.0013\n"
          ]
        }
      ],
      "source": [
        "p_red_given_apple = univariate_prob(new_pt, mean_apple, std_apple)\n",
        "p_red_given_orange = univariate_prob(new_pt, mean_orange, std_orange)\n",
        "print(f\"p(red | apple): {p_red_given_apple:.04f}; p(red | orange): {p_red_given_orange:.04f}\")"
      ]
    },
    {
      "cell_type": "markdown",
      "metadata": {
        "id": "H708xsoVoeK9"
      },
      "source": [
        "L'assignation du point rouge à la class apple ou orange est donné par le numérateur de l'équation Bayesienne.\n",
        "\n",
        "\\begin{align}p(\\mbox{apple}\\ |\\ \\mbox{red}) &\\approx p(\\mbox{red}\\ |\\ \\mbox{apple})\\ p(\\mbox{apple}) \\\\\n",
        "p(\\mbox{orange}\\ |\\ \\mbox{red}) &\\approx p(\\mbox{red}\\ |\\ \\mbox{orange})\\ p(\\mbox{orange})\n",
        "\\end{align}\n",
        "\n",
        "où $p(\\mbox{apple})$ et $p(\\mbox{orange})$ sont les probabilité a priori d'appartenir à l'une ou l'autre des classes.\n",
        "\n",
        "Disons que les probabilités a priori sont égales (0.5)"
      ]
    },
    {
      "cell_type": "code",
      "execution_count": null,
      "metadata": {
        "colab": {
          "base_uri": "https://localhost:8080/"
        },
        "id": "sUzHI71ho87i",
        "outputId": "52c60404-27a1-4d6c-db77-0e4529480f02"
      },
      "outputs": [
        {
          "name": "stdout",
          "output_type": "stream",
          "text": [
            "p(apple | red): 0.2260; p(orange | red): 0.0007\n"
          ]
        }
      ],
      "source": [
        "p_apple_given_red = p_red_given_apple * 0.5\n",
        "p_orange_given_red = p_red_given_orange * 0.5\n",
        "print(f\"p(apple | red): {p_apple_given_red:.04f}; p(orange | red): {p_orange_given_red:.04f}\")"
      ]
    },
    {
      "cell_type": "markdown",
      "metadata": {
        "id": "eWvv9LL4pAuu"
      },
      "source": [
        "Vu que $p(\\mbox{apple}\\ |\\ \\mbox{red}) > p(\\mbox{orange}\\ |\\ \\mbox{red})$, nous pouvons dire que le point rouge est **probablement** une pomme!"
      ]
    },
    {
      "cell_type": "markdown",
      "metadata": {
        "id": "oMrZlOvNpMfb"
      },
      "source": [
        "## Gaussienne multi-variée"
      ]
    },
    {
      "cell_type": "markdown",
      "metadata": {
        "id": "j1VATFl8pVYa"
      },
      "source": [
        "Pour des données à plus hautes dimensions, nous pouvons utiliser une Gaussienne multi-variée"
      ]
    },
    {
      "cell_type": "code",
      "execution_count": 16,
      "metadata": {
        "id": "Ld6P9fccpRxX"
      },
      "outputs": [],
      "source": [
        "def plot_2D_gaussian(mu, Sigma):\n",
        "  X1 = np.linspace(-3, 3, 100)\n",
        "  X2 = np.linspace(-3, 3, 100)\n",
        "  X1, X2 = np.meshgrid(X1, X2)\n",
        "  # Pack X and Y into a single 3-dimensional array\n",
        "  pos = np.empty(X1.shape + (2,))\n",
        "  pos[:, :, 0] = X1\n",
        "  pos[:, :, 1] = X2 \n",
        "\n",
        "  # https://scipython.com/blog/visualizing-the-bivariate-gaussian-distribution/\n",
        "  def multivariate_gaussian(pos, mu, Sigma):\n",
        "      \"\"\"Return the multivariate Gaussian distribution on array pos.\n",
        "      pos is an array constructed by packing the meshed arrays of variables\n",
        "      x_1, x_2, x_3, ..., x_k into its _last_ dimension.\n",
        "      \"\"\"\n",
        "      n = mu.shape[0]\n",
        "      Sigma_det = np.linalg.det(Sigma)\n",
        "      Sigma_inv = np.linalg.inv(Sigma)\n",
        "      N = np.sqrt((2*np.pi)**n * Sigma_det)\n",
        "      # This einsum call calculates (x-mu)T.Sigma-1.(x-mu) in a vectorized\n",
        "      # way across all the input variables.\n",
        "      fac = np.einsum('...k,kl,...l->...', pos-mu, Sigma_inv, pos-mu)\n",
        "      return np.exp(-fac / 2) / N\n",
        "\n",
        "  # The distribution on the variables X, Y packed into pos.\n",
        "  pdf = multivariate_gaussian(pos, mu, Sigma)\n",
        "\n",
        "  from matplotlib import cm\n",
        "  fig = plt.figure(figsize=(10,10))\n",
        "  ax = fig.add_subplot(projection='3d')\n",
        "  ax.plot_surface(X1, X2, pdf, rstride=3, cstride=3, linewidth=1, antialiased=True,\n",
        "                  cmap=cm.viridis)\n",
        "\n",
        "  cset = ax.contourf(X1, X2, pdf, zdir='z', offset=-0.15, cmap=cm.viridis)\n",
        "  ax.set_zlim(-0.15,0.2)\n",
        "  ax.set_zticks(np.linspace(0,0.2,5))\n",
        "  ax.set_xlabel('X1')\n",
        "  ax.set_ylabel('X2')\n",
        "  ax.view_init(27, -21)"
      ]
    },
    {
      "cell_type": "markdown",
      "metadata": {
        "id": "JvJFeBSqNJ-l"
      },
      "source": [
        "$$\n",
        "\\mu = \\begin{pmatrix}\n",
        "\\mu_{1} \\\\\n",
        "\\mu_{2}  \\\\\n",
        "\\end{pmatrix},\n",
        "\\sigma = \\begin{pmatrix}\n",
        "\\sigma_{1,1} & \\sigma_{1,2} \\\\\n",
        "\\sigma_{2,1} & \\sigma_{2,2}  \\\\\n",
        "\\end{pmatrix}\n",
        "$$"
      ]
    },
    {
      "cell_type": "code",
      "execution_count": 17,
      "metadata": {
        "colab": {
          "base_uri": "https://localhost:8080/",
          "height": 847,
          "referenced_widgets": [
            "2ef335a45629444bae2dd11e822b61aa",
            "70d40948d2e042aaa74df51f4ecf0eb0",
            "99f500af982243b2adfbf3a1f7fec32a",
            "a650f6ecdd6b4a369c2fe4891a256509",
            "c96ee85db7b04430ac2faa397fc6e329",
            "514e893be93b493a9615388376b4a9a8",
            "72b5a13461fc43f6a60b24da05f3307c",
            "bc694a80757d4471b0c7502712c1263f",
            "a98de8cf38d34239abe9ff55621692d4",
            "97eaab5659394292adbdcfd8f2d203ae",
            "2a97ef1f5ac6497a977e05631e35075e",
            "bdd181ebc3d34306a8373461bbd74120",
            "d141fb3e082b4c97a6b2231026621a7d",
            "b0ff68853f404a59be07ed70a844e2cf",
            "a09c1fa9d1b844d7bc44b0b7c589c483",
            "b561ece120ca44c9aafb6503c66f857a",
            "dbe228c7e3d047a88e29c0f690d18eeb",
            "0df9f487dbdc4af3a3d7b250e917da86",
            "a50ae35bcc984e2c8d83b2ccd2255a9f",
            "e9084a75dccf4ab1859b6a70fa963ea4",
            "f7b630cb31dc48dca0e372a7536a57dd",
            "2f11cc7feb7a488dabcef7a56636a66c"
          ]
        },
        "id": "6eUMBp8_pSuW",
        "outputId": "5911f711-f1f2-47f3-a7bb-45a643cc67a9"
      },
      "outputs": [
        {
          "data": {
            "application/vnd.jupyter.widget-view+json": {
              "model_id": "7ffe823ea9674c56907d3addf91a5e11",
              "version_major": 2,
              "version_minor": 0
            },
            "text/plain": [
              "interactive(children=(FloatSlider(value=0.0, continuous_update=False, description='Mean x1', max=2.0, min=-2.0…"
            ]
          },
          "metadata": {},
          "output_type": "display_data"
        }
      ],
      "source": [
        "@interact(\n",
        "    mu1=FloatSlider(min=-2, max=2, value=0, description='Mean x1', continuous_update=False),\n",
        "    mu2=FloatSlider(min=-2, max=2, value=0, description='Mean x2', continuous_update=False),\n",
        "    s11=FloatSlider(min=0.01, max=2, value=1, description='sigma 11', continuous_update=False),\n",
        "    s12=FloatSlider(min=-2, max=2, value=0, description='sigma 12', continuous_update=False),\n",
        "    s21=FloatSlider(min=-2, max=2, value=0, description='sigma 21', continuous_update=False),\n",
        "    s22=FloatSlider(min=0.01, max=2, value=1, description='sigma 22', continuous_update=False),\n",
        ")\n",
        "def interactive_2D_gaussian(mu1, mu2, s11, s12, s21, s22):\n",
        "    Sigma = np.array([[s11 , s12], [s21,  s22]])\n",
        "    plot_2D_gaussian(np.array([mu1, mu2]), Sigma)"
      ]
    },
    {
      "cell_type": "markdown",
      "metadata": {
        "id": "RgcKfrH9liQm"
      },
      "source": [
        "Nous allons nous limiter aujourd'hui à un cas particulier de cette distribution, soit la loi **gaussienne isotropique**. Plus précisément, la matrice de covariance $ \\Sigma_c $ de chacune de ces distributions est une matrice diagonale dont chacun des éléments sur la diagonale sont égaux (nous notons `sigma_sq` la variance $ \\sigma^2 $). Ainsi, nous n'avons qu'un seul paramètre à estimer afin de déterminer la matrice de covariance pour chaque classe. C'est certainement plus facile (pour nous et pour l'ordinateur) de calculer sa valeur, mais ceci veut également dire que notre modèle possède moins de capacité."
      ]
    },
    {
      "cell_type": "markdown",
      "metadata": {
        "id": "suupT2JRphJs"
      },
      "source": [
        "## Entraîner les distributions avec les données\n",
        "\n",
        "Nous avons alors un modèle paramétrique assez simple pour chaque classe $c$. Les paramètres sont l'espérance $ \\mu_c $ (un vecteur de la même dimension que nos valeurs d'entrées) et la variance $ \\sigma^2_c $ (un scalaire multiplié par la matrice identité). Nous allons apprendre (estimer) ces paramètres à l'aide du maximum de vraisemblance. Pour chaque classe, nous trouverons les valeurs des paramètres qui maximisent la *log-vraisemblance* des points d'entraînement de cette classe:\n",
        "\n",
        "$$ \\log \\prod_i^n p(X = x_i) $$\n",
        "\n",
        "Pour une gaussienne isotropique de dimension $d$, les estimateurs du maximum de vraisemblance $\\mu$ et $\\sigma^2$ sont:\n",
        "\n",
        "\n",
        "$$\\mu_{ML} = \\frac{1}{n} \\sum_{i=1}^{n} x_i$$\n",
        "\n",
        "$$\\sigma_{ML}^2 = \\frac{1}{nd} \\sum_{i=1}^{n} (x_i-\\mu_{ML})^T(x_i-\\mu_{ML})$$\n",
        "\n",
        "Après avoir trouvé les paramètres qui maximisent la vraisemblance pour chaque classe, nous pouvons ensuite calculer chaque probabilité $ p (\\mbox{exemple} \\ |  \\ \\mbox{classe}) $. Il est maintenant suffisant d'appliquer la règle de Bayes afin de classer un nouvel exemple. Plus précisément, nous voulons trouver, pour un exemple donné, la classe qui maximise $ p(\\mbox{exemple} \\ | \\ \\mbox{classe}) p(\\mbox{classe}) $ (ou de manière équivalente $ \\log (p (\\mbox{exemple } \\ | \\ \\mbox{classe} ) p(\\mbox{classe})) $. **Au moment test, notre classifieur doit évaluer cette quantité pour chaque classe et utiliser ces valeurs afin d'assigner une classe à l'exemple.**"
      ]
    },
    {
      "cell_type": "markdown",
      "metadata": {
        "id": "44PQHAbK2S_b"
      },
      "source": [
        "## Code à compléter"
      ]
    },
    {
      "cell_type": "markdown",
      "metadata": {
        "id": "0oRzkhCt2S_f"
      },
      "source": [
        "Pour la classe `GaussianMaxLikelihood`:\n",
        "\n",
        "  - **Calculez** mu ($\\mu$) et sigma_sq ($ \\sigma^2 $), la moyenne et la variance dans `GaussianMaxLikelihood.train`.\n",
        "  - **Calculez** la densité de la loi gaussienne dans `GaussianMaxLikelihood.loglikelihood`, definissez la comme étant la variable `log_prob` et **retournez la**.\n",
        "  \n",
        "Dans `__init__`, nous initialisons `self.mu` et `self.sigma_sq`. Ces variables seront ensuite modifiées lorsque la fonction `train` sera appelée.\n"
      ]
    },
    {
      "cell_type": "code",
      "execution_count": 39,
      "metadata": {
        "id": "_SXw79kz2S_k"
      },
      "outputs": [],
      "source": [
        "class GaussianMaxLikelihood:\n",
        "    def __init__(self, n_dims):\n",
        "        # AJOUTER CODE ICI\n",
        "        self.n_dims = n_dims\n",
        "        self.mu = None\n",
        "        self.sigma_sq = None\n",
        "\n",
        "    # Pour un jeu d'entraînement, la fonction devrait calculer les estimateur ML de l'espérance et de la variance\n",
        "    def train(self, train_data):\n",
        "        # AJOUTER CODE ICI\n",
        "        self.mu = np.mean(train_data, axis=0)\n",
        "        n = train_data.shape[0]\n",
        "        d = self.mu.shape[0]\n",
        "        self.sigma_sq = np.sum(\n",
        "            np.einsum(\"ij,ij->\", train_data - self.mu, train_data - self.mu)\n",
        "        ) / (n * d)\n",
        "\n",
        "    # Retourne un vecteur de dimension égale au nombre d'ex. test qui contient les log probabilité de chaque\n",
        "    # exemple test\n",
        "    def loglikelihood(self, test_data):\n",
        "        # AJOUTER CODE ICI\n",
        "        # Ici on prend le log de la fonction de densité d'une gaussienne\n",
        "        # souvenez-vous des propriétés des log et attention aux erreurs d'instabilité numérique\n",
        "\n",
        "        def multivariate_gaussian(x, mu_vec, cov_mat):\n",
        "            \"\"\"\n",
        "            Calculates the multivariate Gaussian probability density function (PDF).\n",
        "\n",
        "            Args:\n",
        "            - x: The input vector (numpy array) of size (d,).\n",
        "            - mu_vec: The mean vector (numpy array) of size (d,).\n",
        "            - sigma_mat: The covariance matrix (numpy array) of size (d, d).\n",
        "\n",
        "            Returns:\n",
        "            - The probability density value (float).\n",
        "            \"\"\"\n",
        "            d = self.n_dims\n",
        "            norm_factor = 1 / ((2 * np.pi) ** (d / 2) * self.sigma_sq**2)\n",
        "            delta_x_mu = x - mu_vec\n",
        "            exp_factor = -0.5 * np.dot(\n",
        "                np.dot(delta_x_mu.T, np.linalg.inv(cov_mat)), delta_x_mu\n",
        "            )\n",
        "            return norm_factor * np.exp(exp_factor)\n",
        "\n",
        "        log_prob = []\n",
        "\n",
        "        for test_point in test_data:\n",
        "            log_prob.append(\n",
        "                np.log(multivariate_gaussian(test_point, self.mu, self.sigma_sq))\n",
        "            )\n",
        "\n",
        "        return log_prob"
      ]
    },
    {
      "cell_type": "code",
      "execution_count": 40,
      "metadata": {},
      "outputs": [],
      "source": [
        "class GaussianMaxLikelihood:\n",
        "    def __init__(self, n_dims):\n",
        "        # AJOUTER CODE ICI\n",
        "        self.n_dims = n_dims\n",
        "        self.mu = None\n",
        "        self.sigma_sq = None\n",
        "\n",
        "    # Pour un jeu d'entraînement, la fonction devrait calculer les estimateur ML de l'espérance et de la variance\n",
        "    def train(self, train_data):\n",
        "        # AJOUTER CODE ICI\n",
        "        self.mu = np.mean(train_data, axis=0)\n",
        "        n = train_data.shape[0]\n",
        "        d = self.mu.shape[0]\n",
        "        self.sigma_sq = np.sum(\n",
        "            np.einsum(\"ij,ij->\", train_data - self.mu, train_data - self.mu)\n",
        "        ) / (n * d)\n",
        "\n",
        "    # Retourne un vecteur de dimension égale au nombre d'ex. test qui contient les log probabilité de chaque\n",
        "    # exemple test\n",
        "    def loglikelihood(self, test_data):\n",
        "        # AJOUTER CODE ICI\n",
        "        # Ici on prend le log de la fonction de densité d'une gaussienne\n",
        "        # souvenez-vous des propriétés des log et attention aux erreurs d'instabilité numérique\n",
        "\n",
        "        log_prob = []\n",
        "\n",
        "        for test_point in test_data:\n",
        "            dist_sq = np.sum((test_point - self.mu) ** 2)\n",
        "            log_likelihood = -0.5 * self.n_dims * np.log(2 * np.pi) - 0.5 * self.n_dims * np.log(self.sigma_sq) - (dist_sq / (2 * self.sigma_sq))\n",
        "            log_prob.append(log_likelihood)\n",
        "\n",
        "        return log_prob"
      ]
    },
    {
      "cell_type": "markdown",
      "metadata": {
        "id": "vJjOWRUh2S_q"
      },
      "source": [
        "Pour la classe `BayesClassifier`:\n",
        "\n",
        "  - **Complétez** `bayes_classifier.loglikelihood`\n",
        "  \n",
        "`self.maximum_likelihood_models` est une liste de longueur égale au nombre de classes. Chaque élément est un modèle qui permet de calculer les log-vraisemblances en utilisant la méthode `loglikelihood`.\n",
        "\n",
        "`self.priors` est une liste de scalaires. Ils représentent les probabilités à priori des classes."
      ]
    },
    {
      "cell_type": "code",
      "execution_count": 72,
      "metadata": {
        "id": "hEZKOQzi2S_r"
      },
      "outputs": [],
      "source": [
        "class BayesClassifier:\n",
        "    def __init__(self, maximum_likelihood_models, priors):\n",
        "        # AJOUTER CODE ICI\n",
        "        self.maximum_likelihood_models = maximum_likelihood_models\n",
        "        self.priors = priors\n",
        "        if len(self.maximum_likelihood_models) != len(self.priors):\n",
        "            print('The number of ML models must be equal to the number of priors!')\n",
        "        self.n_classes = len(self.priors)\n",
        "\n",
        "    # Retourne une matrice de dimension [nb d'ex. test, nb de classes] contenant les log\n",
        "    # probabilités de chaque ex. test sous le modèle entrainé par le MV.\n",
        "    def loglikelihood(self, test_data):\n",
        "        # AJOUTER CODE ICI\n",
        "        log_pred = np.zeros((test_data.shape[0], self.n_classes))\n",
        "        for i in range(self.n_classes):\n",
        "            log_likelihood = self.maximum_likelihood_models[i].loglikelihood(test_data)\n",
        "            log_prior = np.log(self.priors[i])\n",
        "            log_pred[:, i] = log_likelihood+log_prior\n",
        "        return log_pred"
      ]
    },
    {
      "cell_type": "markdown",
      "metadata": {
        "id": "jTeHVkjc2S_v"
      },
      "source": [
        "Dans cette partie, nous allons entraîner BayesClassifier sur le dataset iris, tel qu'expliqué dans la description détaillée. Nous allons utiliser les classes BayesClassifier et GaussianMaxLikelihood.\n",
        "\n",
        "Contrairement à ce que nous avons fait dans le lab précédent, **nous n'allons pas utiliser un dataset train/test**. Nous allons simplement utiliser le dataset complet pour entraîner le modèle et ensuite **faire des prédictions sur le training set lui-même.**\n",
        "\n",
        "Des questions bonus se trouvent à la fin de ce notebook pour que vous puissiez explorer avec un ensemble d'entraînement/test. Ces questions ne seront cependant pas testées sur gradescope.\n",
        "\n",
        "**Complétez** la fonction `get_accuracy(test_inputs, test_labels)`, qui prend en paramètre un ensemble test, et retourne l'exactitude du classifieur (`classifier`) entraîné. Votre fonction devrait retourner un nombre entre 0 et 1.\n",
        "\n",
        "Pour vous assurer que tout fonctionne, vous pouvez tester votre code par appeller votre fonction sur l'ensemble d'entraînement (cette partie du code, après la fonction, vous est donnée). Souvenez-vous cependant que votre fonction devrait fonctionner avec toutes données d'entrée, et pas seulement (iris_train, iris_labels)."
      ]
    },
    {
      "cell_type": "code",
      "execution_count": 80,
      "metadata": {
        "colab": {
          "base_uri": "https://localhost:8080/",
          "height": 332
        },
        "id": "gGAH3AHd2S_x",
        "outputId": "ffc42730-eb32-4cb3-8f74-a3e567e5428d"
      },
      "outputs": [
        {
          "name": "stdout",
          "output_type": "stream",
          "text": [
            "The training accuracy is : 92.0 % \n"
          ]
        }
      ],
      "source": [
        "# On télécharge le dataset et le séparons en input et en étiquettes\n",
        "import sys\n",
        "import numpy as np\n",
        "\n",
        "iris = np.loadtxt('http://www.iro.umontreal.ca/~dift3395/files/iris.txt')\n",
        "\n",
        "iris_train = iris[:, :-1]\n",
        "iris_labels = iris[:, -1]\n",
        "\n",
        "# On sépare le input en trois sous-ensembles, correspondant aux classes 1, 2 et 3. Il est nécessaire\n",
        "# de faire cette partition afin d'entraîner GaussianMaxLikelihood pour chaque classe. Notez que la partition\n",
        "# (0:50, 50:100 et 100:150) n'est pas arbitraire: elle correspond aux trois classes dans le dataset.\n",
        "iris_train1 = iris_train[0:50, :]\n",
        "iris_train2 = iris_train[50:100, :]\n",
        "iris_train3 = iris_train[100:150, :]\n",
        "\n",
        "# Nous créons un modèle par classe (en utilisant le maximum de vraisemblance) et les entraînons\n",
        "model_class1 = GaussianMaxLikelihood(4)\n",
        "model_class2 = GaussianMaxLikelihood(4)\n",
        "model_class3 = GaussianMaxLikelihood(4)\n",
        "model_class1.train(iris_train1)\n",
        "model_class2.train(iris_train2)\n",
        "model_class3.train(iris_train3)\n",
        "\n",
        "# Nous créons une liste de nos modèles et une liste de nos priors. Ici, nos priors sont\n",
        "# déjà calculés car nous savons les proportions par classe\n",
        "model_ml = [model_class1, model_class2, model_class3]\n",
        "priors = [1./3, 1./3, 1./3]\n",
        "\n",
        "\n",
        "# Nous créons notre classifieur avec notre liste de modèles gaussiens et nos prob à priori\n",
        "classifier = BayesClassifier(model_ml, priors)\n",
        "\n",
        "# Retourne un nombre entre 0 et 1 représentant l'exactitude du modèle sur les test_inputs\n",
        "\n",
        "def get_accuracy(data, labels):\n",
        "    # Nous pouvons calculez les log-probabilités selon notre modèle\n",
        "    log_prob = classifier.loglikelihood(data)\n",
        "    # Il reste à calculer les classes prédites\n",
        "    classes_pred = log_prob.argmax(1) + 1\n",
        "    # Retournez l'exactitude en comparant les classes prédites aux vraies étiquettes\n",
        "    acc = np.mean(classes_pred == labels)\n",
        "    return acc\n",
        "\n",
        "\n",
        "if __name__=='__main__':\n",
        "    print(\"The training accuracy is : {:.1f} % \".format(100 * get_accuracy(iris_train, iris_labels)))"
      ]
    },
    {
      "cell_type": "markdown",
      "metadata": {
        "id": "Vzy_ryyk2S_1"
      },
      "source": [
        "## Une fois terminé (Bonus)"
      ]
    },
    {
      "cell_type": "markdown",
      "metadata": {
        "id": "rs3Ux-Ar2S_2"
      },
      "source": [
        "- Changez votre code afin que `GaussianMaxLikelihood` calcule 1) une matrice de variance-covariance diagonale (où on estime la variance de chaque élément/trait des données d'entrée) 2) une matrice de variance-covariance complète. Vous pouvez par exemple avoir un paramètre `cov_type` qui peut être `isotropic`, `diagonal` ou `full`. Les commandes `numpy.cov` et `numpy.var` peuvent être utiles.\n",
        "\n",
        "- À la place d'utiliser le dataset complet iris pour entraîner `BayesClassifier`, performez une séparation aléatoire de (2/3, 1/3) afin d'obtenir un ensemble d'entraînement et un ensemble test. Comparez les exactitudes du classifieur obtenues à partir des ensembles train et test. Prenez soin d'ajuster le code qui définit `iris_train1`, `iris_train2`, `iris_train3` et `priors` en conséquence. Comparez l'exactitude des ensembles train et test des 3 modèles: gaussienne isotropique, gaussienne diagonale et gaussienne *complète*.\n",
        "\n",
        "- Plutôt que d'utiliser les 4 traits afin d'entraîner votre classifieur, utilisez seulement que deux caractéristiques et effectuer des analyses de visualisation telles que faites dans le lab 2. Vous pouvez biensûr faire usages des fonctions du lab 2 pour faire vos graphiques."
      ]
    },
    {
      "cell_type": "code",
      "execution_count": null,
      "metadata": {
        "id": "sHPpyoS2DtkG"
      },
      "outputs": [],
      "source": [
        "class GaussianMaxLikelihoodBonus:\n",
        "    \"\"\"\n",
        "    This is a more generic version of the Gaussian with different behaviour for the covariance\n",
        "    \"\"\"\n",
        "    def __init__(self, n_dims, cov_type='isotropic'):\n",
        "        self.cov_type = cov_type\n",
        "        self.n_dim       = n_dims\n",
        "        self.mu = np.zeros(n_dims)\n",
        "        # Nous avons un scalaire comme écart-type car notre modèle est une loi gaussienne isotropique\n",
        "        self.sigma_sq = 1.0\n",
        "\n",
        "    # Pour un jeu d'entraînement, la fonction devrait calculer les estimateur ML de l'espérance et de la variance\n",
        "    def train(self, train_data):\n",
        "        # Ici, nous devons trouver la moyenne et la variance dans train_data et les définir dans self.mu and self.\n",
        "\n",
        "        self.mu = np.mean(train_data, axis=0)\n",
        "\n",
        "        # AJOUTER CODE ICI\n",
        "        if self.cov_type == 'isotropic':\n",
        "            self.covariance = None\n",
        "        elif self.cov_type == 'diagonal':\n",
        "            self.covariance = None\n",
        "        else:\n",
        "            self.covariance = None\n",
        "\n",
        "\n",
        "    # Retourne un vecteur de dimension égale au nombre d'ex. test qui contient les log probabilité de chaque\n",
        "    # exemple test\n",
        "    def loglikelihood(self, test_data):\n",
        "        # AJOUTER CODE ICI\n",
        "        log_prob = None\n",
        "        return log_prob"
      ]
    },
    {
      "cell_type": "code",
      "execution_count": null,
      "metadata": {
        "id": "SpgtCXu_Hy8w"
      },
      "outputs": [],
      "source": [
        "# On télécharge le dataset et le séparons en input et en étiquettes\n",
        "import sys\n",
        "import numpy as np\n",
        "\n",
        "iris = np.loadtxt('http://www.iro.umontreal.ca/~dift3395/files/iris.txt')\n",
        "\n",
        "iris_train = iris[:, :-1]\n",
        "iris_labels = iris[:, -1]\n",
        "\n",
        "# On sépare le input en trois sous-ensembles, correspondant aux classes 1, 2 et 3. Il est nécessaire\n",
        "# de faire cette partition afin d'entraîner GaussianMaxLikelihood pour chaque classe. Notez que la partition\n",
        "# (0:50, 50:100 et 100:150) n'est pas arbitraire: elle correspond aux trois classes dans le dataset.\n",
        "iris_train1 = iris_train[0:50, :]\n",
        "iris_train2 = iris_train[50:100, :]\n",
        "iris_train3 = iris_train[100:150, :]\n",
        "\n",
        "# Nous créons un modèle par classe (en utilisant le maximum de vraisemblance) et les entraînons\n",
        "cov_type = 'full' # <--- CHANGE THIS\n",
        "model_class1 = GaussianMaxLikelihoodBonus(4, cov_type)\n",
        "model_class2 = GaussianMaxLikelihoodBonus(4, cov_type)\n",
        "model_class3 = GaussianMaxLikelihoodBonus(4, cov_type)\n",
        "model_class1.train(iris_train1)\n",
        "model_class2.train(iris_train2)\n",
        "model_class3.train(iris_train3)\n",
        "\n",
        "# Nous créons une liste de nos modèles et une liste de nos priors. Ici, nos priors sont\n",
        "# déjà calculés car nous savons les proportions par classe\n",
        "model_ml = [model_class1, model_class2, model_class3]\n",
        "priors = [1./3, 1./3, 1./3]\n",
        "\n",
        "\n",
        "# Nous créons notre classifieur avec notre liste de modèles gaussiens et nos prob à priori\n",
        "classifier = BayesClassifier(model_ml, priors)\n",
        "\n",
        "# Retourne un nombre entre 0 et 1 représentant l'exactitude du modèle sur les test_inputs\n",
        "\n",
        "def get_accuracy(data, labels):\n",
        "    # Nous pouvons calculez les log-probabilités selon notre modèle\n",
        "    log_prob = classifier.loglikelihood(data)\n",
        "    # Il reste à calculer les classes prédites\n",
        "    classes_pred = log_prob.argmax(1) + 1\n",
        "    # Retournez l'exactitude en comparant les classes prédites aux vraies étiquettes\n",
        "    acc = np.mean(classes_pred == labels)\n",
        "    return acc\n",
        "\n",
        "\n",
        "if __name__=='__main__':\n",
        "    print(\"The training accuracy is : {:.1f} % \".format(100 * get_accuracy(iris_train, iris_labels)))"
      ]
    },
    {
      "cell_type": "code",
      "execution_count": null,
      "metadata": {
        "id": "lEEXG_m_MIVd"
      },
      "outputs": [],
      "source": []
    }
  ],
  "metadata": {
    "colab": {
      "provenance": []
    },
    "kernelspec": {
      "display_name": "venv",
      "language": "python",
      "name": "python3"
    },
    "language_info": {
      "codemirror_mode": {
        "name": "ipython",
        "version": 3
      },
      "file_extension": ".py",
      "mimetype": "text/x-python",
      "name": "python",
      "nbconvert_exporter": "python",
      "pygments_lexer": "ipython3",
      "version": "3.12.0"
    },
    "widgets": {
      "application/vnd.jupyter.widget-state+json": {
        "0113cf18278e4b15a9cd26366ef96a74": {
          "model_module": "@jupyter-widgets/output",
          "model_module_version": "1.0.0",
          "model_name": "OutputModel",
          "state": {
            "_dom_classes": [],
            "_model_module": "@jupyter-widgets/output",
            "_model_module_version": "1.0.0",
            "_model_name": "OutputModel",
            "_view_count": null,
            "_view_module": "@jupyter-widgets/output",
            "_view_module_version": "1.0.0",
            "_view_name": "OutputView",
            "layout": "IPY_MODEL_9570a6e7c8314ba28ff9fb12ba1855b4",
            "msg_id": "",
            "outputs": []
          }
        },
        "0df9f487dbdc4af3a3d7b250e917da86": {
          "model_module": "@jupyter-widgets/base",
          "model_module_version": "1.2.0",
          "model_name": "LayoutModel",
          "state": {
            "_model_module": "@jupyter-widgets/base",
            "_model_module_version": "1.2.0",
            "_model_name": "LayoutModel",
            "_view_count": null,
            "_view_module": "@jupyter-widgets/base",
            "_view_module_version": "1.2.0",
            "_view_name": "LayoutView",
            "align_content": null,
            "align_items": null,
            "align_self": null,
            "border": null,
            "bottom": null,
            "display": null,
            "flex": null,
            "flex_flow": null,
            "grid_area": null,
            "grid_auto_columns": null,
            "grid_auto_flow": null,
            "grid_auto_rows": null,
            "grid_column": null,
            "grid_gap": null,
            "grid_row": null,
            "grid_template_areas": null,
            "grid_template_columns": null,
            "grid_template_rows": null,
            "height": null,
            "justify_content": null,
            "justify_items": null,
            "left": null,
            "margin": null,
            "max_height": null,
            "max_width": null,
            "min_height": null,
            "min_width": null,
            "object_fit": null,
            "object_position": null,
            "order": null,
            "overflow": null,
            "overflow_x": null,
            "overflow_y": null,
            "padding": null,
            "right": null,
            "top": null,
            "visibility": null,
            "width": null
          }
        },
        "1d74305ede3f428580f05b2e0fae896a": {
          "model_module": "@jupyter-widgets/base",
          "model_module_version": "1.2.0",
          "model_name": "LayoutModel",
          "state": {
            "_model_module": "@jupyter-widgets/base",
            "_model_module_version": "1.2.0",
            "_model_name": "LayoutModel",
            "_view_count": null,
            "_view_module": "@jupyter-widgets/base",
            "_view_module_version": "1.2.0",
            "_view_name": "LayoutView",
            "align_content": null,
            "align_items": null,
            "align_self": null,
            "border": null,
            "bottom": null,
            "display": null,
            "flex": null,
            "flex_flow": null,
            "grid_area": null,
            "grid_auto_columns": null,
            "grid_auto_flow": null,
            "grid_auto_rows": null,
            "grid_column": null,
            "grid_gap": null,
            "grid_row": null,
            "grid_template_areas": null,
            "grid_template_columns": null,
            "grid_template_rows": null,
            "height": null,
            "justify_content": null,
            "justify_items": null,
            "left": null,
            "margin": null,
            "max_height": null,
            "max_width": null,
            "min_height": null,
            "min_width": null,
            "object_fit": null,
            "object_position": null,
            "order": null,
            "overflow": null,
            "overflow_x": null,
            "overflow_y": null,
            "padding": null,
            "right": null,
            "top": null,
            "visibility": null,
            "width": null
          }
        },
        "2a97ef1f5ac6497a977e05631e35075e": {
          "model_module": "@jupyter-widgets/controls",
          "model_module_version": "1.5.0",
          "model_name": "SliderStyleModel",
          "state": {
            "_model_module": "@jupyter-widgets/controls",
            "_model_module_version": "1.5.0",
            "_model_name": "SliderStyleModel",
            "_view_count": null,
            "_view_module": "@jupyter-widgets/base",
            "_view_module_version": "1.2.0",
            "_view_name": "StyleView",
            "description_width": "",
            "handle_color": null
          }
        },
        "2ef335a45629444bae2dd11e822b61aa": {
          "model_module": "@jupyter-widgets/controls",
          "model_module_version": "1.5.0",
          "model_name": "VBoxModel",
          "state": {
            "_dom_classes": [
              "widget-interact"
            ],
            "_model_module": "@jupyter-widgets/controls",
            "_model_module_version": "1.5.0",
            "_model_name": "VBoxModel",
            "_view_count": null,
            "_view_module": "@jupyter-widgets/controls",
            "_view_module_version": "1.5.0",
            "_view_name": "VBoxView",
            "box_style": "",
            "children": [
              "IPY_MODEL_70d40948d2e042aaa74df51f4ecf0eb0",
              "IPY_MODEL_99f500af982243b2adfbf3a1f7fec32a",
              "IPY_MODEL_a650f6ecdd6b4a369c2fe4891a256509",
              "IPY_MODEL_c96ee85db7b04430ac2faa397fc6e329",
              "IPY_MODEL_514e893be93b493a9615388376b4a9a8",
              "IPY_MODEL_72b5a13461fc43f6a60b24da05f3307c",
              "IPY_MODEL_bc694a80757d4471b0c7502712c1263f"
            ],
            "layout": "IPY_MODEL_a98de8cf38d34239abe9ff55621692d4"
          }
        },
        "2f11cc7feb7a488dabcef7a56636a66c": {
          "model_module": "@jupyter-widgets/base",
          "model_module_version": "1.2.0",
          "model_name": "LayoutModel",
          "state": {
            "_model_module": "@jupyter-widgets/base",
            "_model_module_version": "1.2.0",
            "_model_name": "LayoutModel",
            "_view_count": null,
            "_view_module": "@jupyter-widgets/base",
            "_view_module_version": "1.2.0",
            "_view_name": "LayoutView",
            "align_content": null,
            "align_items": null,
            "align_self": null,
            "border": null,
            "bottom": null,
            "display": null,
            "flex": null,
            "flex_flow": null,
            "grid_area": null,
            "grid_auto_columns": null,
            "grid_auto_flow": null,
            "grid_auto_rows": null,
            "grid_column": null,
            "grid_gap": null,
            "grid_row": null,
            "grid_template_areas": null,
            "grid_template_columns": null,
            "grid_template_rows": null,
            "height": null,
            "justify_content": null,
            "justify_items": null,
            "left": null,
            "margin": null,
            "max_height": null,
            "max_width": null,
            "min_height": null,
            "min_width": null,
            "object_fit": null,
            "object_position": null,
            "order": null,
            "overflow": null,
            "overflow_x": null,
            "overflow_y": null,
            "padding": null,
            "right": null,
            "top": null,
            "visibility": null,
            "width": null
          }
        },
        "41f27cb1911f4a6485dbb6246d021a2a": {
          "model_module": "@jupyter-widgets/base",
          "model_module_version": "1.2.0",
          "model_name": "LayoutModel",
          "state": {
            "_model_module": "@jupyter-widgets/base",
            "_model_module_version": "1.2.0",
            "_model_name": "LayoutModel",
            "_view_count": null,
            "_view_module": "@jupyter-widgets/base",
            "_view_module_version": "1.2.0",
            "_view_name": "LayoutView",
            "align_content": null,
            "align_items": null,
            "align_self": null,
            "border": null,
            "bottom": null,
            "display": null,
            "flex": null,
            "flex_flow": null,
            "grid_area": null,
            "grid_auto_columns": null,
            "grid_auto_flow": null,
            "grid_auto_rows": null,
            "grid_column": null,
            "grid_gap": null,
            "grid_row": null,
            "grid_template_areas": null,
            "grid_template_columns": null,
            "grid_template_rows": null,
            "height": null,
            "justify_content": null,
            "justify_items": null,
            "left": null,
            "margin": null,
            "max_height": null,
            "max_width": null,
            "min_height": null,
            "min_width": null,
            "object_fit": null,
            "object_position": null,
            "order": null,
            "overflow": null,
            "overflow_x": null,
            "overflow_y": null,
            "padding": null,
            "right": null,
            "top": null,
            "visibility": null,
            "width": null
          }
        },
        "4e3ba38a68ff4394b47faa7524a5fd55": {
          "model_module": "@jupyter-widgets/controls",
          "model_module_version": "1.5.0",
          "model_name": "SliderStyleModel",
          "state": {
            "_model_module": "@jupyter-widgets/controls",
            "_model_module_version": "1.5.0",
            "_model_name": "SliderStyleModel",
            "_view_count": null,
            "_view_module": "@jupyter-widgets/base",
            "_view_module_version": "1.2.0",
            "_view_name": "StyleView",
            "description_width": "",
            "handle_color": null
          }
        },
        "514e893be93b493a9615388376b4a9a8": {
          "model_module": "@jupyter-widgets/controls",
          "model_module_version": "1.5.0",
          "model_name": "FloatSliderModel",
          "state": {
            "_dom_classes": [],
            "_model_module": "@jupyter-widgets/controls",
            "_model_module_version": "1.5.0",
            "_model_name": "FloatSliderModel",
            "_view_count": null,
            "_view_module": "@jupyter-widgets/controls",
            "_view_module_version": "1.5.0",
            "_view_name": "FloatSliderView",
            "continuous_update": false,
            "description": "sigma 21",
            "description_tooltip": null,
            "disabled": false,
            "layout": "IPY_MODEL_0df9f487dbdc4af3a3d7b250e917da86",
            "max": 2,
            "min": -2,
            "orientation": "horizontal",
            "readout": true,
            "readout_format": ".2f",
            "step": 0.1,
            "style": "IPY_MODEL_a50ae35bcc984e2c8d83b2ccd2255a9f",
            "value": 0
          }
        },
        "5cf652d674404d86a17b8a2f87439991": {
          "model_module": "@jupyter-widgets/controls",
          "model_module_version": "1.5.0",
          "model_name": "FloatSliderModel",
          "state": {
            "_dom_classes": [],
            "_model_module": "@jupyter-widgets/controls",
            "_model_module_version": "1.5.0",
            "_model_name": "FloatSliderModel",
            "_view_count": null,
            "_view_module": "@jupyter-widgets/controls",
            "_view_module_version": "1.5.0",
            "_view_name": "FloatSliderView",
            "continuous_update": false,
            "description": "Std",
            "description_tooltip": null,
            "disabled": false,
            "layout": "IPY_MODEL_bd88069f48aa46eea87ed052fb4092f8",
            "max": 100000000000,
            "min": 0.0001,
            "orientation": "horizontal",
            "readout": true,
            "readout_format": ".2f",
            "step": 0.1,
            "style": "IPY_MODEL_7dd0b02d1f6948d09ccd7762089146b6",
            "value": 1
          }
        },
        "70d40948d2e042aaa74df51f4ecf0eb0": {
          "model_module": "@jupyter-widgets/controls",
          "model_module_version": "1.5.0",
          "model_name": "FloatSliderModel",
          "state": {
            "_dom_classes": [],
            "_model_module": "@jupyter-widgets/controls",
            "_model_module_version": "1.5.0",
            "_model_name": "FloatSliderModel",
            "_view_count": null,
            "_view_module": "@jupyter-widgets/controls",
            "_view_module_version": "1.5.0",
            "_view_name": "FloatSliderView",
            "continuous_update": false,
            "description": "Mean x1",
            "description_tooltip": null,
            "disabled": false,
            "layout": "IPY_MODEL_97eaab5659394292adbdcfd8f2d203ae",
            "max": 2,
            "min": -2,
            "orientation": "horizontal",
            "readout": true,
            "readout_format": ".2f",
            "step": 0.1,
            "style": "IPY_MODEL_2a97ef1f5ac6497a977e05631e35075e",
            "value": 0
          }
        },
        "72b5a13461fc43f6a60b24da05f3307c": {
          "model_module": "@jupyter-widgets/controls",
          "model_module_version": "1.5.0",
          "model_name": "FloatSliderModel",
          "state": {
            "_dom_classes": [],
            "_model_module": "@jupyter-widgets/controls",
            "_model_module_version": "1.5.0",
            "_model_name": "FloatSliderModel",
            "_view_count": null,
            "_view_module": "@jupyter-widgets/controls",
            "_view_module_version": "1.5.0",
            "_view_name": "FloatSliderView",
            "continuous_update": false,
            "description": "sigma 22",
            "description_tooltip": null,
            "disabled": false,
            "layout": "IPY_MODEL_e9084a75dccf4ab1859b6a70fa963ea4",
            "max": 2,
            "min": 0.01,
            "orientation": "horizontal",
            "readout": true,
            "readout_format": ".2f",
            "step": 0.1,
            "style": "IPY_MODEL_f7b630cb31dc48dca0e372a7536a57dd",
            "value": 1
          }
        },
        "7dd0b02d1f6948d09ccd7762089146b6": {
          "model_module": "@jupyter-widgets/controls",
          "model_module_version": "1.5.0",
          "model_name": "SliderStyleModel",
          "state": {
            "_model_module": "@jupyter-widgets/controls",
            "_model_module_version": "1.5.0",
            "_model_name": "SliderStyleModel",
            "_view_count": null,
            "_view_module": "@jupyter-widgets/base",
            "_view_module_version": "1.2.0",
            "_view_name": "StyleView",
            "description_width": "",
            "handle_color": null
          }
        },
        "8712a55a44e44277af2e1ab038d68c9a": {
          "model_module": "@jupyter-widgets/controls",
          "model_module_version": "1.5.0",
          "model_name": "FloatSliderModel",
          "state": {
            "_dom_classes": [],
            "_model_module": "@jupyter-widgets/controls",
            "_model_module_version": "1.5.0",
            "_model_name": "FloatSliderModel",
            "_view_count": null,
            "_view_module": "@jupyter-widgets/controls",
            "_view_module_version": "1.5.0",
            "_view_name": "FloatSliderView",
            "continuous_update": false,
            "description": "Mean",
            "description_tooltip": null,
            "disabled": false,
            "layout": "IPY_MODEL_41f27cb1911f4a6485dbb6246d021a2a",
            "max": 5,
            "min": -5,
            "orientation": "horizontal",
            "readout": true,
            "readout_format": ".2f",
            "step": 0.1,
            "style": "IPY_MODEL_4e3ba38a68ff4394b47faa7524a5fd55",
            "value": 0
          }
        },
        "8f31f68cfb3c4aa08287ce80f073a8fc": {
          "model_module": "@jupyter-widgets/controls",
          "model_module_version": "1.5.0",
          "model_name": "VBoxModel",
          "state": {
            "_dom_classes": [
              "widget-interact"
            ],
            "_model_module": "@jupyter-widgets/controls",
            "_model_module_version": "1.5.0",
            "_model_name": "VBoxModel",
            "_view_count": null,
            "_view_module": "@jupyter-widgets/controls",
            "_view_module_version": "1.5.0",
            "_view_name": "VBoxView",
            "box_style": "",
            "children": [
              "IPY_MODEL_8712a55a44e44277af2e1ab038d68c9a",
              "IPY_MODEL_5cf652d674404d86a17b8a2f87439991",
              "IPY_MODEL_0113cf18278e4b15a9cd26366ef96a74"
            ],
            "layout": "IPY_MODEL_1d74305ede3f428580f05b2e0fae896a"
          }
        },
        "9570a6e7c8314ba28ff9fb12ba1855b4": {
          "model_module": "@jupyter-widgets/base",
          "model_module_version": "1.2.0",
          "model_name": "LayoutModel",
          "state": {
            "_model_module": "@jupyter-widgets/base",
            "_model_module_version": "1.2.0",
            "_model_name": "LayoutModel",
            "_view_count": null,
            "_view_module": "@jupyter-widgets/base",
            "_view_module_version": "1.2.0",
            "_view_name": "LayoutView",
            "align_content": null,
            "align_items": null,
            "align_self": null,
            "border": null,
            "bottom": null,
            "display": null,
            "flex": null,
            "flex_flow": null,
            "grid_area": null,
            "grid_auto_columns": null,
            "grid_auto_flow": null,
            "grid_auto_rows": null,
            "grid_column": null,
            "grid_gap": null,
            "grid_row": null,
            "grid_template_areas": null,
            "grid_template_columns": null,
            "grid_template_rows": null,
            "height": null,
            "justify_content": null,
            "justify_items": null,
            "left": null,
            "margin": null,
            "max_height": null,
            "max_width": null,
            "min_height": null,
            "min_width": null,
            "object_fit": null,
            "object_position": null,
            "order": null,
            "overflow": null,
            "overflow_x": null,
            "overflow_y": null,
            "padding": null,
            "right": null,
            "top": null,
            "visibility": null,
            "width": null
          }
        },
        "97eaab5659394292adbdcfd8f2d203ae": {
          "model_module": "@jupyter-widgets/base",
          "model_module_version": "1.2.0",
          "model_name": "LayoutModel",
          "state": {
            "_model_module": "@jupyter-widgets/base",
            "_model_module_version": "1.2.0",
            "_model_name": "LayoutModel",
            "_view_count": null,
            "_view_module": "@jupyter-widgets/base",
            "_view_module_version": "1.2.0",
            "_view_name": "LayoutView",
            "align_content": null,
            "align_items": null,
            "align_self": null,
            "border": null,
            "bottom": null,
            "display": null,
            "flex": null,
            "flex_flow": null,
            "grid_area": null,
            "grid_auto_columns": null,
            "grid_auto_flow": null,
            "grid_auto_rows": null,
            "grid_column": null,
            "grid_gap": null,
            "grid_row": null,
            "grid_template_areas": null,
            "grid_template_columns": null,
            "grid_template_rows": null,
            "height": null,
            "justify_content": null,
            "justify_items": null,
            "left": null,
            "margin": null,
            "max_height": null,
            "max_width": null,
            "min_height": null,
            "min_width": null,
            "object_fit": null,
            "object_position": null,
            "order": null,
            "overflow": null,
            "overflow_x": null,
            "overflow_y": null,
            "padding": null,
            "right": null,
            "top": null,
            "visibility": null,
            "width": null
          }
        },
        "99f500af982243b2adfbf3a1f7fec32a": {
          "model_module": "@jupyter-widgets/controls",
          "model_module_version": "1.5.0",
          "model_name": "FloatSliderModel",
          "state": {
            "_dom_classes": [],
            "_model_module": "@jupyter-widgets/controls",
            "_model_module_version": "1.5.0",
            "_model_name": "FloatSliderModel",
            "_view_count": null,
            "_view_module": "@jupyter-widgets/controls",
            "_view_module_version": "1.5.0",
            "_view_name": "FloatSliderView",
            "continuous_update": false,
            "description": "Mean x2",
            "description_tooltip": null,
            "disabled": false,
            "layout": "IPY_MODEL_bdd181ebc3d34306a8373461bbd74120",
            "max": 2,
            "min": -2,
            "orientation": "horizontal",
            "readout": true,
            "readout_format": ".2f",
            "step": 0.1,
            "style": "IPY_MODEL_d141fb3e082b4c97a6b2231026621a7d",
            "value": 0
          }
        },
        "a09c1fa9d1b844d7bc44b0b7c589c483": {
          "model_module": "@jupyter-widgets/controls",
          "model_module_version": "1.5.0",
          "model_name": "SliderStyleModel",
          "state": {
            "_model_module": "@jupyter-widgets/controls",
            "_model_module_version": "1.5.0",
            "_model_name": "SliderStyleModel",
            "_view_count": null,
            "_view_module": "@jupyter-widgets/base",
            "_view_module_version": "1.2.0",
            "_view_name": "StyleView",
            "description_width": "",
            "handle_color": null
          }
        },
        "a50ae35bcc984e2c8d83b2ccd2255a9f": {
          "model_module": "@jupyter-widgets/controls",
          "model_module_version": "1.5.0",
          "model_name": "SliderStyleModel",
          "state": {
            "_model_module": "@jupyter-widgets/controls",
            "_model_module_version": "1.5.0",
            "_model_name": "SliderStyleModel",
            "_view_count": null,
            "_view_module": "@jupyter-widgets/base",
            "_view_module_version": "1.2.0",
            "_view_name": "StyleView",
            "description_width": "",
            "handle_color": null
          }
        },
        "a650f6ecdd6b4a369c2fe4891a256509": {
          "model_module": "@jupyter-widgets/controls",
          "model_module_version": "1.5.0",
          "model_name": "FloatSliderModel",
          "state": {
            "_dom_classes": [],
            "_model_module": "@jupyter-widgets/controls",
            "_model_module_version": "1.5.0",
            "_model_name": "FloatSliderModel",
            "_view_count": null,
            "_view_module": "@jupyter-widgets/controls",
            "_view_module_version": "1.5.0",
            "_view_name": "FloatSliderView",
            "continuous_update": false,
            "description": "sigma 11",
            "description_tooltip": null,
            "disabled": false,
            "layout": "IPY_MODEL_b0ff68853f404a59be07ed70a844e2cf",
            "max": 2,
            "min": 0.01,
            "orientation": "horizontal",
            "readout": true,
            "readout_format": ".2f",
            "step": 0.1,
            "style": "IPY_MODEL_a09c1fa9d1b844d7bc44b0b7c589c483",
            "value": 1
          }
        },
        "a98de8cf38d34239abe9ff55621692d4": {
          "model_module": "@jupyter-widgets/base",
          "model_module_version": "1.2.0",
          "model_name": "LayoutModel",
          "state": {
            "_model_module": "@jupyter-widgets/base",
            "_model_module_version": "1.2.0",
            "_model_name": "LayoutModel",
            "_view_count": null,
            "_view_module": "@jupyter-widgets/base",
            "_view_module_version": "1.2.0",
            "_view_name": "LayoutView",
            "align_content": null,
            "align_items": null,
            "align_self": null,
            "border": null,
            "bottom": null,
            "display": null,
            "flex": null,
            "flex_flow": null,
            "grid_area": null,
            "grid_auto_columns": null,
            "grid_auto_flow": null,
            "grid_auto_rows": null,
            "grid_column": null,
            "grid_gap": null,
            "grid_row": null,
            "grid_template_areas": null,
            "grid_template_columns": null,
            "grid_template_rows": null,
            "height": null,
            "justify_content": null,
            "justify_items": null,
            "left": null,
            "margin": null,
            "max_height": null,
            "max_width": null,
            "min_height": null,
            "min_width": null,
            "object_fit": null,
            "object_position": null,
            "order": null,
            "overflow": null,
            "overflow_x": null,
            "overflow_y": null,
            "padding": null,
            "right": null,
            "top": null,
            "visibility": null,
            "width": null
          }
        },
        "b0ff68853f404a59be07ed70a844e2cf": {
          "model_module": "@jupyter-widgets/base",
          "model_module_version": "1.2.0",
          "model_name": "LayoutModel",
          "state": {
            "_model_module": "@jupyter-widgets/base",
            "_model_module_version": "1.2.0",
            "_model_name": "LayoutModel",
            "_view_count": null,
            "_view_module": "@jupyter-widgets/base",
            "_view_module_version": "1.2.0",
            "_view_name": "LayoutView",
            "align_content": null,
            "align_items": null,
            "align_self": null,
            "border": null,
            "bottom": null,
            "display": null,
            "flex": null,
            "flex_flow": null,
            "grid_area": null,
            "grid_auto_columns": null,
            "grid_auto_flow": null,
            "grid_auto_rows": null,
            "grid_column": null,
            "grid_gap": null,
            "grid_row": null,
            "grid_template_areas": null,
            "grid_template_columns": null,
            "grid_template_rows": null,
            "height": null,
            "justify_content": null,
            "justify_items": null,
            "left": null,
            "margin": null,
            "max_height": null,
            "max_width": null,
            "min_height": null,
            "min_width": null,
            "object_fit": null,
            "object_position": null,
            "order": null,
            "overflow": null,
            "overflow_x": null,
            "overflow_y": null,
            "padding": null,
            "right": null,
            "top": null,
            "visibility": null,
            "width": null
          }
        },
        "b561ece120ca44c9aafb6503c66f857a": {
          "model_module": "@jupyter-widgets/base",
          "model_module_version": "1.2.0",
          "model_name": "LayoutModel",
          "state": {
            "_model_module": "@jupyter-widgets/base",
            "_model_module_version": "1.2.0",
            "_model_name": "LayoutModel",
            "_view_count": null,
            "_view_module": "@jupyter-widgets/base",
            "_view_module_version": "1.2.0",
            "_view_name": "LayoutView",
            "align_content": null,
            "align_items": null,
            "align_self": null,
            "border": null,
            "bottom": null,
            "display": null,
            "flex": null,
            "flex_flow": null,
            "grid_area": null,
            "grid_auto_columns": null,
            "grid_auto_flow": null,
            "grid_auto_rows": null,
            "grid_column": null,
            "grid_gap": null,
            "grid_row": null,
            "grid_template_areas": null,
            "grid_template_columns": null,
            "grid_template_rows": null,
            "height": null,
            "justify_content": null,
            "justify_items": null,
            "left": null,
            "margin": null,
            "max_height": null,
            "max_width": null,
            "min_height": null,
            "min_width": null,
            "object_fit": null,
            "object_position": null,
            "order": null,
            "overflow": null,
            "overflow_x": null,
            "overflow_y": null,
            "padding": null,
            "right": null,
            "top": null,
            "visibility": null,
            "width": null
          }
        },
        "bc694a80757d4471b0c7502712c1263f": {
          "model_module": "@jupyter-widgets/output",
          "model_module_version": "1.0.0",
          "model_name": "OutputModel",
          "state": {
            "_dom_classes": [],
            "_model_module": "@jupyter-widgets/output",
            "_model_module_version": "1.0.0",
            "_model_name": "OutputModel",
            "_view_count": null,
            "_view_module": "@jupyter-widgets/output",
            "_view_module_version": "1.0.0",
            "_view_name": "OutputView",
            "layout": "IPY_MODEL_2f11cc7feb7a488dabcef7a56636a66c",
            "msg_id": "",
            "outputs": []
          }
        },
        "bd88069f48aa46eea87ed052fb4092f8": {
          "model_module": "@jupyter-widgets/base",
          "model_module_version": "1.2.0",
          "model_name": "LayoutModel",
          "state": {
            "_model_module": "@jupyter-widgets/base",
            "_model_module_version": "1.2.0",
            "_model_name": "LayoutModel",
            "_view_count": null,
            "_view_module": "@jupyter-widgets/base",
            "_view_module_version": "1.2.0",
            "_view_name": "LayoutView",
            "align_content": null,
            "align_items": null,
            "align_self": null,
            "border": null,
            "bottom": null,
            "display": null,
            "flex": null,
            "flex_flow": null,
            "grid_area": null,
            "grid_auto_columns": null,
            "grid_auto_flow": null,
            "grid_auto_rows": null,
            "grid_column": null,
            "grid_gap": null,
            "grid_row": null,
            "grid_template_areas": null,
            "grid_template_columns": null,
            "grid_template_rows": null,
            "height": null,
            "justify_content": null,
            "justify_items": null,
            "left": null,
            "margin": null,
            "max_height": null,
            "max_width": null,
            "min_height": null,
            "min_width": null,
            "object_fit": null,
            "object_position": null,
            "order": null,
            "overflow": null,
            "overflow_x": null,
            "overflow_y": null,
            "padding": null,
            "right": null,
            "top": null,
            "visibility": null,
            "width": null
          }
        },
        "bdd181ebc3d34306a8373461bbd74120": {
          "model_module": "@jupyter-widgets/base",
          "model_module_version": "1.2.0",
          "model_name": "LayoutModel",
          "state": {
            "_model_module": "@jupyter-widgets/base",
            "_model_module_version": "1.2.0",
            "_model_name": "LayoutModel",
            "_view_count": null,
            "_view_module": "@jupyter-widgets/base",
            "_view_module_version": "1.2.0",
            "_view_name": "LayoutView",
            "align_content": null,
            "align_items": null,
            "align_self": null,
            "border": null,
            "bottom": null,
            "display": null,
            "flex": null,
            "flex_flow": null,
            "grid_area": null,
            "grid_auto_columns": null,
            "grid_auto_flow": null,
            "grid_auto_rows": null,
            "grid_column": null,
            "grid_gap": null,
            "grid_row": null,
            "grid_template_areas": null,
            "grid_template_columns": null,
            "grid_template_rows": null,
            "height": null,
            "justify_content": null,
            "justify_items": null,
            "left": null,
            "margin": null,
            "max_height": null,
            "max_width": null,
            "min_height": null,
            "min_width": null,
            "object_fit": null,
            "object_position": null,
            "order": null,
            "overflow": null,
            "overflow_x": null,
            "overflow_y": null,
            "padding": null,
            "right": null,
            "top": null,
            "visibility": null,
            "width": null
          }
        },
        "c96ee85db7b04430ac2faa397fc6e329": {
          "model_module": "@jupyter-widgets/controls",
          "model_module_version": "1.5.0",
          "model_name": "FloatSliderModel",
          "state": {
            "_dom_classes": [],
            "_model_module": "@jupyter-widgets/controls",
            "_model_module_version": "1.5.0",
            "_model_name": "FloatSliderModel",
            "_view_count": null,
            "_view_module": "@jupyter-widgets/controls",
            "_view_module_version": "1.5.0",
            "_view_name": "FloatSliderView",
            "continuous_update": false,
            "description": "sigma 12",
            "description_tooltip": null,
            "disabled": false,
            "layout": "IPY_MODEL_b561ece120ca44c9aafb6503c66f857a",
            "max": 2,
            "min": -2,
            "orientation": "horizontal",
            "readout": true,
            "readout_format": ".2f",
            "step": 0.1,
            "style": "IPY_MODEL_dbe228c7e3d047a88e29c0f690d18eeb",
            "value": 1.3
          }
        },
        "d141fb3e082b4c97a6b2231026621a7d": {
          "model_module": "@jupyter-widgets/controls",
          "model_module_version": "1.5.0",
          "model_name": "SliderStyleModel",
          "state": {
            "_model_module": "@jupyter-widgets/controls",
            "_model_module_version": "1.5.0",
            "_model_name": "SliderStyleModel",
            "_view_count": null,
            "_view_module": "@jupyter-widgets/base",
            "_view_module_version": "1.2.0",
            "_view_name": "StyleView",
            "description_width": "",
            "handle_color": null
          }
        },
        "dbe228c7e3d047a88e29c0f690d18eeb": {
          "model_module": "@jupyter-widgets/controls",
          "model_module_version": "1.5.0",
          "model_name": "SliderStyleModel",
          "state": {
            "_model_module": "@jupyter-widgets/controls",
            "_model_module_version": "1.5.0",
            "_model_name": "SliderStyleModel",
            "_view_count": null,
            "_view_module": "@jupyter-widgets/base",
            "_view_module_version": "1.2.0",
            "_view_name": "StyleView",
            "description_width": "",
            "handle_color": null
          }
        },
        "e9084a75dccf4ab1859b6a70fa963ea4": {
          "model_module": "@jupyter-widgets/base",
          "model_module_version": "1.2.0",
          "model_name": "LayoutModel",
          "state": {
            "_model_module": "@jupyter-widgets/base",
            "_model_module_version": "1.2.0",
            "_model_name": "LayoutModel",
            "_view_count": null,
            "_view_module": "@jupyter-widgets/base",
            "_view_module_version": "1.2.0",
            "_view_name": "LayoutView",
            "align_content": null,
            "align_items": null,
            "align_self": null,
            "border": null,
            "bottom": null,
            "display": null,
            "flex": null,
            "flex_flow": null,
            "grid_area": null,
            "grid_auto_columns": null,
            "grid_auto_flow": null,
            "grid_auto_rows": null,
            "grid_column": null,
            "grid_gap": null,
            "grid_row": null,
            "grid_template_areas": null,
            "grid_template_columns": null,
            "grid_template_rows": null,
            "height": null,
            "justify_content": null,
            "justify_items": null,
            "left": null,
            "margin": null,
            "max_height": null,
            "max_width": null,
            "min_height": null,
            "min_width": null,
            "object_fit": null,
            "object_position": null,
            "order": null,
            "overflow": null,
            "overflow_x": null,
            "overflow_y": null,
            "padding": null,
            "right": null,
            "top": null,
            "visibility": null,
            "width": null
          }
        },
        "f7b630cb31dc48dca0e372a7536a57dd": {
          "model_module": "@jupyter-widgets/controls",
          "model_module_version": "1.5.0",
          "model_name": "SliderStyleModel",
          "state": {
            "_model_module": "@jupyter-widgets/controls",
            "_model_module_version": "1.5.0",
            "_model_name": "SliderStyleModel",
            "_view_count": null,
            "_view_module": "@jupyter-widgets/base",
            "_view_module_version": "1.2.0",
            "_view_name": "StyleView",
            "description_width": "",
            "handle_color": null
          }
        }
      }
    }
  },
  "nbformat": 4,
  "nbformat_minor": 0
}
