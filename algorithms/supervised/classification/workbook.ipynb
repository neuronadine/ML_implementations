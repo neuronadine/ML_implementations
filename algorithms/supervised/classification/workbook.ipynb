{
 "cells": [
  {
   "cell_type": "markdown",
   "metadata": {},
   "source": []
  },
  {
   "cell_type": "markdown",
   "metadata": {},
   "source": [
    "### Histogram Methods"
   ]
  },
  {
   "cell_type": "markdown",
   "metadata": {},
   "source": [
    "**Problem**: Using the iris data set, predict the specis of iris flower given the petal_dimension and sepal_dimension."
   ]
  },
  {
   "cell_type": "code",
   "execution_count": 3,
   "metadata": {},
   "outputs": [],
   "source": [
    "import numpy as np\n",
    "from sklearn.model_selection import train_test_split\n",
    "from sklearn.metrics import accuracy_score\n",
    "import matplotlib.pyplot as plt\n",
    "\n",
    "# Import the model\n",
    "from histogram_2d_classifier import Histogram2DClassifier\n",
    "\n",
    "# Load the iris dataset\n",
    "iris = np.genfromtxt('../../../data/iris.txt')"
   ]
  },
  {
   "cell_type": "code",
   "execution_count": 7,
   "metadata": {},
   "outputs": [],
   "source": [
    "# Select the sepal_length and petal_length\n",
    "X_selected_features = iris[:, [0, 2]]\n",
    "y = iris[:, -1]\n",
    "\n",
    "# Split the data into training and testng sets - with permut - (70/30 rule)\n",
    "# We will be using the default library in scikit-learn.\n",
    "X_train, X_test, y_train, y_test = train_test_split(\n",
    "    X_selected_features, y, test_size=0.3, random_state=42\n",
    ")"
   ]
  },
  {
   "cell_type": "code",
   "execution_count": 8,
   "metadata": {},
   "outputs": [],
   "source": [
    "# Set the hyperparameters\n",
    "# Number of bins along each dimention (1: sepal_length, 2: petal_length)\n",
    "m1 = 10\n",
    "m2 = 10\n",
    "\n",
    "# Range for each feature\n",
    "x1min, x1max = X_train[:, 0].min(), X_train[:, 0].max()\n",
    "x2min, x2max = X_train[:, 1].min(), X_train[:, 1].max()\n",
    "\n",
    "# Number of classes in the Iris dataset\n",
    "nclasses = len(np.unique(y))\n",
    "\n",
    "# Initialize the classifier with the hyperparameters\n",
    "classifier = Histogram2DClassifier(m1, x1min, x1max, m2, x2min, x2max, nclasses)"
   ]
  },
  {
   "cell_type": "code",
   "execution_count": 10,
   "metadata": {},
   "outputs": [],
   "source": [
    "# # Train the classifier\n",
    "# classifier.train(X_train)\n",
    "\n",
    "# # Predict the classes for the test set\n",
    "# y_pred = [classifier.pred(x) for x in X_test]\n",
    "\n",
    "# # Calculate the accuracy (testing)\n",
    "\n",
    "# # Visualize the decision boundry"
   ]
  },
  {
   "cell_type": "markdown",
   "metadata": {},
   "source": [
    "### Neighbor Methodss (K-NN)"
   ]
  },
  {
   "cell_type": "markdown",
   "metadata": {},
   "source": [
    "### Parzen"
   ]
  },
  {
   "cell_type": "markdown",
   "metadata": {},
   "source": [
    "#### Hard"
   ]
  },
  {
   "cell_type": "code",
   "execution_count": null,
   "metadata": {},
   "outputs": [],
   "source": []
  },
  {
   "cell_type": "markdown",
   "metadata": {},
   "source": [
    "#### Soft"
   ]
  },
  {
   "cell_type": "code",
   "execution_count": null,
   "metadata": {},
   "outputs": [],
   "source": []
  }
 ],
 "metadata": {
  "kernelspec": {
   "display_name": "Python 3",
   "language": "python",
   "name": "python3"
  },
  "language_info": {
   "codemirror_mode": {
    "name": "ipython",
    "version": 3
   },
   "file_extension": ".py",
   "mimetype": "text/x-python",
   "name": "python",
   "nbconvert_exporter": "python",
   "pygments_lexer": "ipython3",
   "version": "3.12.0"
  }
 },
 "nbformat": 4,
 "nbformat_minor": 2
}
